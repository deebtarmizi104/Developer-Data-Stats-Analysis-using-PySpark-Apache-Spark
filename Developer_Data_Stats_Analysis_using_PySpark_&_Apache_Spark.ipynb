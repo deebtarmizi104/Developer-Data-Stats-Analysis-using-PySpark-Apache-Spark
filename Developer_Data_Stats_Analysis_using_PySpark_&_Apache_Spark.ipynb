{
  "nbformat": 4,
  "nbformat_minor": 0,
  "metadata": {
    "colab": {
      "name": "Developer Data Stats Analysis using PySpark & Apache Spark.ipynb",
      "provenance": [],
      "authorship_tag": "ABX9TyMZUYGfO+1cP+uvr1PjS8Xw",
      "include_colab_link": true
    },
    "kernelspec": {
      "name": "python3",
      "display_name": "Python 3"
    },
    "language_info": {
      "name": "python"
    }
  },
  "cells": [
    {
      "cell_type": "markdown",
      "metadata": {
        "id": "view-in-github",
        "colab_type": "text"
      },
      "source": [
        "<a href=\"https://colab.research.google.com/github/deebtarmizi104/Developer-Data-Stats-Analysis-using-PySpark-with-Apache-Spark/blob/main/Developer_Data_Stats_Analysis_using_PySpark_%26_Apache_Spark.ipynb\" target=\"_parent\"><img src=\"https://colab.research.google.com/assets/colab-badge.svg\" alt=\"Open In Colab\"/></a>"
      ]
    },
    {
      "cell_type": "code",
      "execution_count": null,
      "metadata": {
        "id": "Szte1mo8ANcl"
      },
      "outputs": [],
      "source": [
        "# install java\n",
        "! apt-get install openjdk-8-jdk-headless -qq > /dev/null\n",
        "\n",
        "# install spark \n",
        "! wget -q https://dlcdn.apache.org/spark/spark-3.2.0/spark-3.2.0-bin-hadoop3.2.tgz\n",
        "\n",
        "# unzip the spark file to the current folder\n",
        "!tar -xvf spark-3.2.0-bin-hadoop3.2.tgz\n",
        "\n",
        "!pip install -q findspark"
      ]
    },
    {
      "cell_type": "code",
      "source": [
        "import os\n",
        "os.environ[\"JAVA_HOME\"] = \"/usr/lib/jvm/java-8-openjdk-amd64\"\n",
        "os.environ[\"SPARK_HOME\"] = \"/content/spark-3.2.0-bin-hadoop3.2\""
      ],
      "metadata": {
        "id": "q_BMeyFCArB5"
      },
      "execution_count": 8,
      "outputs": []
    },
    {
      "cell_type": "markdown",
      "source": [
        "Importing Packages"
      ],
      "metadata": {
        "id": "G10ucrTdA1xx"
      }
    },
    {
      "cell_type": "code",
      "source": [
        "import findspark\n",
        "findspark.init()\n",
        "\n",
        "from pyspark.sql import SparkSession\n",
        "from pyspark.sql.functions import udf\n",
        "from pyspark.sql.types import StringType\n",
        "from pyspark.sql.types import IntegerType\n",
        "from pyspark.sql.functions import desc\n",
        "from pyspark.sql.functions import asc\n",
        "from pyspark.sql.functions import sum as Fsum\n",
        "\n",
        "import datetime\n",
        "\n",
        "import numpy as np\n",
        "import pandas as pd\n",
        "%matplotlib inline\n",
        "import matplotlib.pyplot as plt"
      ],
      "metadata": {
        "id": "zqsBFBPxAxrG"
      },
      "execution_count": 9,
      "outputs": []
    },
    {
      "cell_type": "code",
      "source": [
        "spark = SparkSession\\\n",
        "        .builder\\\n",
        "        .appName(\"BDATest2\")\\\n",
        "        .getOrCreate()"
      ],
      "metadata": {
        "id": "9luaFOU2A1Pc"
      },
      "execution_count": 10,
      "outputs": []
    },
    {
      "cell_type": "code",
      "source": [
        ""
      ],
      "metadata": {
        "id": "2UnPB3PWEFkI"
      },
      "execution_count": null,
      "outputs": []
    },
    {
      "cell_type": "markdown",
      "source": [
        "# Q1 (Descriptive) - What is the most popular development environment used by the respondents?\n",
        "\n",
        "\n",
        "\n"
      ],
      "metadata": {
        "id": "6b3XJ3YkHDIy"
      }
    },
    {
      "cell_type": "markdown",
      "source": [
        "# Q2 (Descriptive) - Are all the repondents education background from Computer Science/IT"
      ],
      "metadata": {
        "id": "n9UCXTe-H24J"
      }
    },
    {
      "cell_type": "markdown",
      "source": [
        "# Q3 (Exploratory) - Does the respondents' working duration (in years) determine their satisfiability of the job?"
      ],
      "metadata": {
        "id": "uCGGXjXmHSB6"
      }
    },
    {
      "cell_type": "markdown",
      "source": [
        "# Q4 (Predictive) - "
      ],
      "metadata": {
        "id": "eda5eulYHper"
      }
    },
    {
      "cell_type": "markdown",
      "source": [
        "# Q5 (Inferential) - The earlier the respondents start learning coding, the lesser time they will take to be a pro."
      ],
      "metadata": {
        "id": "WRLQtDtWHwSj"
      }
    },
    {
      "cell_type": "code",
      "source": [
        ""
      ],
      "metadata": {
        "id": "yQ5-yv8BIyy5"
      },
      "execution_count": null,
      "outputs": []
    }
  ]
}